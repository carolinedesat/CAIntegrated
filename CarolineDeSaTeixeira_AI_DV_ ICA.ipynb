{
 "cells": [
  {
   "cell_type": "markdown",
   "metadata": {},
   "source": [
    "### Artificial Intelligence"
   ]
  },
  {
   "cell_type": "markdown",
   "metadata": {},
   "source": [
    "##### Using any CSP (Constraint Satisfaction Problem) framework (using variables, value domains, and constraints), discover if the above problems can be solved and if so detail who would be in hired."
   ]
  },
  {
   "cell_type": "code",
   "execution_count": 2,
   "metadata": {},
   "outputs": [
    {
     "name": "stdout",
     "output_type": "stream",
     "text": [
      "Requirement already satisfied: python-constraint in c:\\users\\caroline.teixeira\\appdata\\local\\continuum\\anaconda3\\lib\\site-packages (1.4.0)\n",
      "Note: you may need to restart the kernel to use updated packages.\n"
     ]
    }
   ],
   "source": [
    "pip install python-constraint"
   ]
  },
  {
   "cell_type": "code",
   "execution_count": 3,
   "metadata": {},
   "outputs": [
    {
     "name": "stdout",
     "output_type": "stream",
     "text": [
      "Scenario 1:\n",
      "[]\n",
      "Scenario 2:\n",
      "[]\n"
     ]
    }
   ],
   "source": [
    "from constraint import Problem, AllDifferentConstraint\n",
    "\n",
    "# Defines the \"employees\" variable\n",
    "employees = [\"Peter\", \"Juan\", \"Jim\", \"Jane\", \"Mary\", \"Bruce\", \"Anita\"]\n",
    "# Defines the \"roles\" dictionary which assigns roles to the employees\n",
    "roles = {\n",
    "    \"Peter\": [\"Python Programmer\", \"AI Engineer\"],\n",
    "    \"Juan\": [\"Web Designer\", \"AI Engineer\"],\n",
    "    \"Jim\": [\"AI Engineer\", \"Systems Engineer\"],\n",
    "    \"Jane\": [\"Python Programmer\", \"Database Engineer\"],\n",
    "    \"Mary\": [\"Web Designer\", \"Systems Engineer\"],\n",
    "    \"Bruce\": [\"Systems Engineer\", \"Python Programmer\"],\n",
    "    \"Anita\": [\"Web Designer\", \"AI Engineer\"]\n",
    "}\n",
    "\n",
    "# Defines the number employees for each role\n",
    "# Scenario 1 doesn't need a employee who knows Python, 3 employees can be hired\n",
    "scenario1 = {\"Python Programmer\": 0, \"AI Engineer\": 1, \"Web Designer\": 1, \"Database Admin\": 1, \"Systems Engineer\": 0}\n",
    "# Scenario 2 can hire 4 more employees\n",
    "scenario2 = {\"Python Programmer\": 1, \"AI Engineer\": 3, \"Web Designer\": 1, \"Database Admin\": 1, \"Systems Engineer\": 1}\n",
    "\n",
    "# Checks if the employee is a potential hire according to its role\n",
    "def potentialhires(person, role):\n",
    "    return all(role in roles[person] for role in role.split())\n",
    "\n",
    "# Defines the constraints for each role\n",
    "def constraints(problem, role, count):\n",
    "    for person in employees:\n",
    "        if potentialhires(person, role):\n",
    "            problem.addVariable(person, [role])\n",
    "\n",
    "# Solves the problem and finds a solution which can be applied to each scenario\n",
    "def solve(roles, jobsavailable):\n",
    "    problem = Problem()\n",
    "\n",
    "    for role, count in roles.items():\n",
    "        constraints(problem, role, count)\n",
    "\n",
    "    return problem.getSolutions()\n",
    "\n",
    "if __name__ == \"__main__\":\n",
    "    # Solution for scenario 1\n",
    "    print(\"Scenario 1:\")\n",
    "    solution_scenario1 = solve(scenario1, jobsavailable=3)\n",
    "    print(solution_scenario1)\n",
    "\n",
    "    # Solution for scenario 2\n",
    "    print(\"Scenario 2:\")\n",
    "    solution_scenario2 = solve(scenario2, jobsavailable=4)\n",
    "    print(solution_scenario2)"
   ]
  },
  {
   "cell_type": "markdown",
   "metadata": {},
   "source": [
    "##### These problems be solved using several other algorithm’s we have studied in the module. Choose one of these algorithms and discuss your answer in detail including a proof of your hypothesis in code."
   ]
  },
  {
   "cell_type": "code",
   "execution_count": 4,
   "metadata": {},
   "outputs": [],
   "source": [
    "import heapq"
   ]
  },
  {
   "cell_type": "code",
   "execution_count": 5,
   "metadata": {},
   "outputs": [
    {
     "name": "stdout",
     "output_type": "stream",
     "text": [
      "Scenario 1: Selected Employees - ['Ciara', 'Peter', 'Juan']\n",
      "Scenario 2: Selected Employees - ['Ciara', 'Peter', 'Juan', 'Jim']\n"
     ]
    }
   ],
   "source": [
    "# Defines a function for Dijkstra's algorithm\n",
    "def dijkstra(graph, start):\n",
    "    # Sets all nodes to infinity\n",
    "    distances = {node: float('infinity') for node in graph}\n",
    "    # Set the starting node to 0\n",
    "    distances[start] = 0\n",
    "    # Creates a priority queue\n",
    "    priorityQueue = [(0, start)]\n",
    "\n",
    "    # Defines a while loop\n",
    "    while priorityQueue:\n",
    "        # Pops the node with the smallest distance from the priority queue\n",
    "        currentDistance, currentNode = heapq.heappop(priorityQueue)\n",
    "\n",
    "        # Checks if the current distance is greater than the previous distance\n",
    "        if currentDistance > distances[currentNode]:\n",
    "            continue\n",
    "\n",
    "        # Updates the distance for the neighbour nodes\n",
    "        for neighbor, weight in graph[currentNode].items():\n",
    "            # Calculates the distance from the starting node to the neighbour\n",
    "            distance = currentDistance + weight\n",
    "\n",
    "            # Updates if the current distance is smaller than the previous distance\n",
    "            if distance < distances[neighbor]:\n",
    "                distances[neighbor] = distance\n",
    "                # Pushes the updated distance and neighbor to the priority queue\n",
    "                heapq.heappush(priorityQueue, (distance, neighbor))\n",
    "\n",
    "    return distances\n",
    "\n",
    "# Defines a function for hiring employees\n",
    "def hireEmployees(graph, startNode, abilitiesNeeded, funds):\n",
    "    # Runs the algorithm to calculate the distances\n",
    "    distances = dijkstra(graph, startNode)\n",
    "\n",
    "    # Sorts employees by their distances\n",
    "    sortedEmployees = sorted(distances.items(), key=lambda x: x[1])\n",
    "\n",
    "    # Initializes variables for selected employees and remaining funds\n",
    "    hiredEmployees = []\n",
    "    remainingFunds = funds\n",
    "\n",
    "    # Defines a for loop\n",
    "    for employee, distance in sortedEmployees:\n",
    "        abilities = graph[employee].keys()\n",
    "        # Checks if the abilities and funds constraints are met\n",
    "        if all(ability in abilitiesNeeded for ability in abilities) and remainingFunds > 0:\n",
    "            # Adds the employee to the selected list and decrement the funds\n",
    "            hiredEmployees.append(employee)\n",
    "            remainingFunds -= 1\n",
    "\n",
    "    return hiredEmployees\n",
    "\n",
    "# Defines the graph representing employee abilities\n",
    "graph = {\n",
    "    'Ciara': {},\n",
    "    'Peter': {'Python': 1, 'AI': 1},\n",
    "    'Juan': {'Web': 1, 'AI': 1},\n",
    "    'Jim': {'AI': 1, 'Systems': 1},\n",
    "    'Jane': {'Python': 1, 'Database': 1},\n",
    "    'Mary': {'Web': 1, 'Systems': 1},\n",
    "    'Bruce': {'Systems': 1, 'Python': 1},\n",
    "    'Anita': {'Web': 1, 'AI': 1},\n",
    "}\n",
    "\n",
    "# Solution for scenario 1\n",
    "abilitiesNeededScenario1 = {'Python': 2, 'AI': 2, 'Web': 1, 'Database': 1, 'Systems': 1}\n",
    "fundsScenario1 = 3\n",
    "selectedEmployeesScenario1 = hireEmployees(graph, 'Ciara', abilitiesNeededScenario1, fundsScenario1)\n",
    "print(\"Scenario 1: Selected Employees -\", selectedEmployeesScenario1)\n",
    "\n",
    "# Solution for scenario 2\n",
    "abilitiesNeededScenario2 = {'Python': 2, 'AI': 3, 'Web': 1, 'Database': 1, 'Systems': 1}\n",
    "fundsScenario2 = 4\n",
    "selectedEmployeesScenario2 = hireEmployees(graph, 'Ciara', abilitiesNeededScenario2, fundsScenario2)\n",
    "print(\"Scenario 2: Selected Employees -\", selectedEmployeesScenario2)"
   ]
  },
  {
   "cell_type": "markdown",
   "metadata": {},
   "source": [
    "### Data Visualisation & Communication"
   ]
  },
  {
   "cell_type": "markdown",
   "metadata": {},
   "source": [
    "##### Use appropriate visualisations to help communicate the CSP scenario and the corresponding solutions, if any, to the appropriate stakeholders.\n",
    "##### Create interactive visualisation(s) to allow a user to explore alternate constraint scenarios.\n",
    "##### Create GUI(s) to allow a user to explore alternate constraint scenarios.\n"
   ]
  },
  {
   "cell_type": "code",
   "execution_count": 6,
   "metadata": {},
   "outputs": [],
   "source": [
    "import tkinter as tk\n",
    "from tkinter import ttk, messagebox\n",
    "from matplotlib.figure import Figure\n",
    "from matplotlib.backends.backend_tkagg import FigureCanvasTkAgg\n",
    "import pandas as pd\n",
    "import matplotlib.pyplot as plt\n",
    "from matplotlib.colors import to_hex"
   ]
  },
  {
   "cell_type": "code",
   "execution_count": 8,
   "metadata": {},
   "outputs": [
    {
     "data": {
      "image/png": "[encoded data removed]",
      "text/plain": [
       "<Figure size 720x432 with 1 Axes>"
      ]
     },
     "metadata": {
      "needs_background": "light"
     },
     "output_type": "display_data"
    }
   ],
   "source": [
    "# Creates a dataframe to store the data\n",
    "df = pd.DataFrame(columns=[\"Employee\", \"Role\"])\n",
    "\n",
    "# Creates a dictionary to store role assignments\n",
    "roles_assignment = {'AI': ['Juan', 'Peter', 'Jim', 'Anita'],\n",
    "                    'Python': ['Ciara', 'Peter', 'Jane', 'Bruce'],\n",
    "                    'Web': ['Juan', 'Mary', 'Anita'],\n",
    "                    'Systems': ['Jim', 'Mary', 'Bruce'],\n",
    "                    'Database': ['Jane']}\n",
    "\n",
    "# Creates a list to store the employees\n",
    "person_names = ['Ciara', 'Juan', 'Mary', 'Jane', 'Bruce', 'Anita', 'Jim', 'Peter']\n",
    "\n",
    "# Creates the main tkinter window\n",
    "root = tk.Tk()\n",
    "root.title(\"Constraint Satisfaction Problem Visualization\")\n",
    "\n",
    "# Creates the frame to store the matplotlib chart\n",
    "chart_frame = ttk.Frame(root)\n",
    "chart_frame.grid(row=0, column=0, rowspan=2, padx=10, pady=10)\n",
    "\n",
    "# Creates the matplotlib figure\n",
    "fig, ax = plt.subplots(figsize=(10, 6))\n",
    "canvas = FigureCanvasTkAgg(fig, master=chart_frame)\n",
    "canvas.get_tk_widget().pack()\n",
    "\n",
    "# Defines a function to update the matplotlib chart\n",
    "def update_chart():\n",
    "    try:\n",
    "        # Clears the previous chart\n",
    "        ax.clear()\n",
    "\n",
    "        # Updates the dictionary\n",
    "        total_people = person_entry.get()\n",
    "\n",
    "        # Checks if the input is an integer\n",
    "        if total_people.isdigit():\n",
    "            total_people = int(total_people)\n",
    "\n",
    "            # Checks if the input is within the range\n",
    "            if 1 <= total_people <= 8:\n",
    "                global df\n",
    "                df = pd.DataFrame(columns=[\"Employee\", \"Role\"])\n",
    "\n",
    "                # Assigns the roles to each person\n",
    "                role_preferences = ['AI', 'Python', 'Web', 'Systems', 'Database']\n",
    "                for person_name in person_names[:total_people]:\n",
    "                    for role in role_preferences:\n",
    "                        if person_name in roles_assignment[role]:\n",
    "                            new_data = pd.DataFrame({\"Employee\": [person_name], \"Role\": [role]})\n",
    "                            df = pd.concat([df, new_data], ignore_index=True)\n",
    "\n",
    "                # Updates the chart\n",
    "                role_counts = df.groupby('Role')['Employee'].count().sort_index()\n",
    "                stacked_data = df.pivot_table(index='Role', columns='Employee', aggfunc=len, fill_value=0)\n",
    "\n",
    "                # Plots the chart with matching colors for names\n",
    "                color_map = {person: to_hex(plt.cm.tab10(i)) for i, person in enumerate(person_names[:total_people])}\n",
    "                stacked_data.plot(kind='bar', stacked=True, ax=ax, legend=False, color=[color_map[col] for col in stacked_data.columns])\n",
    "\n",
    "                # Sets title and labels\n",
    "                ax.set_xlabel('Roles')\n",
    "                ax.set_ylabel('Employees')\n",
    "\n",
    "                # Sets positions and labels\n",
    "                ax.set_xticks(range(len(role_counts)))\n",
    "                ax.set_xticklabels(role_counts.index)\n",
    "\n",
    "                # Draws the chart\n",
    "                canvas.draw()\n",
    "\n",
    "                # Displays the names and colors on the side\n",
    "                legend_frame = ttk.Frame(root)\n",
    "                legend_frame.grid(row=0, column=1)\n",
    "\n",
    "                for i, person in enumerate(person_names[:total_people]):\n",
    "                    color = color_map[person]\n",
    "                    label = ttk.Label(legend_frame, text=person, background=color)\n",
    "                    label.grid(row=i, column=0, padx=5, pady=5, sticky='w')\n",
    "\n",
    "    except ValueError:\n",
    "        messagebox.showerror(\"Error\", \"Please enter a valid total number of people\")\n",
    "\n",
    "# Defines the label and input field for the number of people\n",
    "person_label = ttk.Label(root, text=\"Enter the number of people here:\")\n",
    "person_entry = ttk.Entry(root)\n",
    "person_entry.insert(0, \"8\")\n",
    "person_label.grid(row=2, column=0)\n",
    "person_entry.grid(row=2, column=1)\n",
    "\n",
    "# Defines the button\n",
    "update_button = ttk.Button(root, text=\"Update\", command=update_chart)\n",
    "update_button.grid(row=3, column=0, columnspan=2, pady=10)\n",
    "\n",
    "# Runs the tkinter loop\n",
    "root.mainloop()"
   ]
  },
  {
   "cell_type": "code",
   "execution_count": null,
   "metadata": {},
   "outputs": [],
   "source": []
  }
 ],
 "metadata": {
  "kernelspec": {
   "display_name": "Python 3",
   "language": "python",
   "name": "python3"
  },
  "language_info": {
   "codemirror_mode": {
    "name": "ipython",
    "version": 3
   },
   "file_extension": ".py",
   "mimetype": "text/x-python",
   "name": "python",
   "nbconvert_exporter": "python",
   "pygments_lexer": "ipython3",
   "version": "3.7.4"
  }
 },
 "nbformat": 4,
 "nbformat_minor": 2
}
